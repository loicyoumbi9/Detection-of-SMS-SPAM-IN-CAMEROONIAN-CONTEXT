{
  "cells": [
    {
      "cell_type": "code",
      "execution_count": null,
      "metadata": {
        "colab": {
          "base_uri": "https://localhost:8080/"
        },
        "id": "JvX1-9s-LEzH",
        "outputId": "45746839-c06a-4511-ba4d-531512060fc5"
      },
      "outputs": [
        {
          "output_type": "stream",
          "name": "stdout",
          "text": [
            "Mounted at /content/drive\n"
          ]
        }
      ],
      "source": [
        "from google.colab import drive\n",
        "drive.mount('/content/drive')"
      ]
    },
    {
      "cell_type": "code",
      "execution_count": null,
      "metadata": {
        "colab": {
          "base_uri": "https://localhost:8080/"
        },
        "id": "07-cgGlfLNW8",
        "outputId": "7fd3b64f-6feb-4649-9fa4-1fc62385e9ba"
      },
      "outputs": [
        {
          "output_type": "stream",
          "name": "stdout",
          "text": [
            "Requirement already satisfied: matplotlib-venn in /usr/local/lib/python3.10/dist-packages (0.11.10)\n",
            "Requirement already satisfied: matplotlib in /usr/local/lib/python3.10/dist-packages (from matplotlib-venn) (3.7.1)\n",
            "Requirement already satisfied: numpy in /usr/local/lib/python3.10/dist-packages (from matplotlib-venn) (1.25.2)\n",
            "Requirement already satisfied: scipy in /usr/local/lib/python3.10/dist-packages (from matplotlib-venn) (1.11.4)\n",
            "Requirement already satisfied: contourpy>=1.0.1 in /usr/local/lib/python3.10/dist-packages (from matplotlib->matplotlib-venn) (1.2.0)\n",
            "Requirement already satisfied: cycler>=0.10 in /usr/local/lib/python3.10/dist-packages (from matplotlib->matplotlib-venn) (0.12.1)\n",
            "Requirement already satisfied: fonttools>=4.22.0 in /usr/local/lib/python3.10/dist-packages (from matplotlib->matplotlib-venn) (4.48.1)\n",
            "Requirement already satisfied: kiwisolver>=1.0.1 in /usr/local/lib/python3.10/dist-packages (from matplotlib->matplotlib-venn) (1.4.5)\n",
            "Requirement already satisfied: packaging>=20.0 in /usr/local/lib/python3.10/dist-packages (from matplotlib->matplotlib-venn) (23.2)\n",
            "Requirement already satisfied: pillow>=6.2.0 in /usr/local/lib/python3.10/dist-packages (from matplotlib->matplotlib-venn) (9.4.0)\n",
            "Requirement already satisfied: pyparsing>=2.3.1 in /usr/local/lib/python3.10/dist-packages (from matplotlib->matplotlib-venn) (3.1.1)\n",
            "Requirement already satisfied: python-dateutil>=2.7 in /usr/local/lib/python3.10/dist-packages (from matplotlib->matplotlib-venn) (2.8.2)\n",
            "Requirement already satisfied: six>=1.5 in /usr/local/lib/python3.10/dist-packages (from python-dateutil>=2.7->matplotlib->matplotlib-venn) (1.16.0)\n",
            "E: Package 'libfluidsynth1' has no installation candidate\n",
            "\u001b[31mERROR: Could not find a version that satisfies the requirement keras-rmsprop (from versions: none)\u001b[0m\u001b[31m\n",
            "\u001b[0m\u001b[31mERROR: No matching distribution found for keras-rmsprop\u001b[0m\u001b[31m\n",
            "\u001b[0m"
          ]
        }
      ],
      "source": [
        "!pip install matplotlib-venn\n",
        "!apt-get -qq install -y libfluidsynth1\n",
        "!pip install keras-rmsprop"
      ]
    },
    {
      "cell_type": "code",
      "execution_count": null,
      "metadata": {
        "colab": {
          "base_uri": "https://localhost:8080/"
        },
        "id": "yQRkc_HAKo3t",
        "outputId": "1966b886-e2d1-4040-b2ab-9c525b4a5d63"
      },
      "outputs": [
        {
          "output_type": "stream",
          "name": "stdout",
          "text": [
            "\u001b[31mERROR: Could not find a version that satisfies the requirement keras-scikit-learn (from versions: none)\u001b[0m\u001b[31m\n",
            "\u001b[0m\u001b[31mERROR: No matching distribution found for keras-scikit-learn\u001b[0m\u001b[31m\n",
            "\u001b[0m"
          ]
        }
      ],
      "source": [
        "# This Python 3 environment comes with many helpful analytics libraries installed\n",
        "# It is defined by the kaggle/python docker image: https://github.com/kaggle/docker-python\n",
        "# For example, here's several helpful packages to load in\n",
        "\n",
        "import numpy as np # linear algebra\n",
        "import pandas as pd # data processing, CSV file I/O (e.g. pd.read_csv)\n",
        "import matplotlib.pyplot as plt\n",
        "\n",
        "# Input data files are available in the \"../input/\" directory.\n",
        "# For example, running this (by clicking run or pressing Shift+Enter) will list the files in the input directory\n",
        "\n",
        "# we need to fit model with sequence of tokens with specific length\n",
        "from keras.preprocessing.sequence import pad_sequences\n",
        "from keras.preprocessing.text import Tokenizer\n",
        "from keras.models import Sequential\n",
        "# normal LSTM/GRU and the Version with Cuda\n",
        "from keras.layers import Dense, Embedding, GRU, LSTM, Dropout, Bidirectional\n",
        "from keras.callbacks import TensorBoard, EarlyStopping, ModelCheckpoint\n",
        "from tensorflow.keras.optimizers import RMSprop\n",
        "from keras.optimizers import Adam\n",
        "\n",
        "# keras wrapper for k-fold cross-validation\n",
        "!pip install keras-scikit-learn\n",
        "#from keras.wrappers.scikit_learn import KerasClassifier\n",
        "# normsl cross validation\n",
        "from sklearn.model_selection import cross_val_score, train_test_split\n",
        "# cross validation for hyperparameter tuning\n",
        "from sklearn.model_selection import GridSearchCV\n",
        "\n",
        "import os\n",
        "\n",
        "\n",
        "# Any results you write to the current directory are saved as output."
      ]
    },
    {
      "cell_type": "code",
      "execution_count": null,
      "metadata": {
        "id": "QFluymhJLCY1"
      },
      "outputs": [],
      "source": [
        "import tensorflow as tf\n",
        "from tensorflow import keras\n",
        "from tensorflow.keras import layers\n",
        "import pandas as pd\n",
        "import numpy as np\n",
        "import pandas as pd\n",
        "import numpy as np\n",
        "import matplotlib.pyplot as plt\n",
        "%matplotlib inline\n",
        "import seaborn as sns\n",
        "\n",
        "from nltk import word_tokenize\n",
        "\n",
        "from sklearn.model_selection import train_test_split\n",
        "from sklearn.preprocessing import LabelEncoder\n",
        "from sklearn.metrics import auc, roc_auc_score, roc_curve, confusion_matrix, classification_report\n",
        "\n",
        "from keras.models import Model, load_model\n",
        "from keras.layers import LSTM, Activation, Dense, Dropout, Input, Embedding\n",
        "from tensorflow.keras.optimizers import RMSprop\n",
        "#from keras.optimizers import RMSprop\n",
        "from keras.preprocessing.text import Tokenizer\n",
        "#from keras.preprocessing.sequence import pad_sequences\n",
        "#from keras_preprocessing.sequence import pad_sequences\n",
        "from tensorflow.keras.utils import to_categorical\n",
        "from keras.callbacks import EarlyStopping, ModelCheckpoint, TensorBoard"
      ]
    },
    {
      "cell_type": "code",
      "execution_count": null,
      "metadata": {
        "colab": {
          "base_uri": "https://localhost:8080/"
        },
        "id": "9xmuZMJhFb4A",
        "outputId": "eb7dafeb-9ef7-4ca9-f083-62a881aa20c9"
      },
      "outputs": [
        {
          "output_type": "stream",
          "name": "stdout",
          "text": [
            "20616\n",
            "<class 'pandas.core.frame.DataFrame'>\n",
            "Int64Index: 20616 entries, 5723 to 15611\n",
            "Data columns (total 2 columns):\n",
            " #   Column  Non-Null Count  Dtype \n",
            "---  ------  --------------  ----- \n",
            " 0   label   20616 non-null  object\n",
            " 1   SMS     20616 non-null  object\n",
            "dtypes: object(2)\n",
            "memory usage: 483.2+ KB\n"
          ]
        },
        {
          "output_type": "execute_result",
          "data": {
            "text/plain": [
              "array([['ham', 'Okay merci délégué...\\n'],\n",
              "       ['ham', \"Quelqu'un peut-il m'aider ici??\"],\n",
              "       ['ham', 'Kimmich et mérinos sont ou?'],\n",
              "       ...,\n",
              "       ['spam',\n",
              "        \"Yoomee CAmeroun 44Go de données gratuites (tous les réseaux) valables pendant 90 jours à l'occasion de la célébration de l'anniversaire de WhatsApp. \\nJ'ai reçu le mien aujourd'hui. \\nOuvrir ce lien \\neianal.com/whatsapp/fr \\neianal.com/whatsapp/fr\"],\n",
              "       ['ham',\n",
              "        'You have successfully withdrawn FCFA 9500 from your mobile money account, from GUEMKAP WANDJI JOSEPH -LMJ (237651406187) on 2021-08-20 09:15:49. Fees: FCFA 175; Transaction Id: 2882341684. New balance: FCFA 345.'],\n",
              "       ['ham', 'Bonsoir madame']], dtype=object)"
            ]
          },
          "metadata": {},
          "execution_count": 5
        }
      ],
      "source": [
        "datal = pd.DataFrame(pd.read_excel('/content/drive/MyDrive/camerounaise_spam_data.xlsx'))\n",
        "#datal = datal = pd.read_csv('/content/drive/MyDrive/smsspamcollection/spam.csv',encoding='latin-1')\n",
        "\n",
        "scale_mapped={\n",
        "    'Spam':1.0,\n",
        "    'spam':1.0,\n",
        "    'ham':0.0,\n",
        "    'h':0.0\n",
        "}\n",
        "\n",
        "datal.rename(columns = {'v1':'label','v2':'SMS'},inplace=True)\n",
        "# Checking the rows and columns(m*n)\n",
        "data = (datal[['label','SMS']].dropna().reset_index(drop=True)).sample(frac = 1)\n",
        "data_label= data['label'].replace(scale_mapped)\n",
        "print(len(data))\n",
        "# Checking for the nulls\n",
        "data.info()\n",
        "# Re-Checking for nulls\n",
        "data.isnull().sum()\n",
        "# Row-wise all values are displayed\n",
        "data.values\n"
      ]
    },
    {
      "cell_type": "code",
      "execution_count": null,
      "metadata": {
        "id": "tiWBNv19K3rt"
      },
      "outputs": [],
      "source": [
        "\n",
        "import numpy as np\n",
        "import pandas as pd\n",
        "import matplotlib.pyplot as plt\n",
        "import seaborn as sns\n",
        "import tensorflow as tf\n",
        "from tensorflow import keras\n",
        "from tensorflow.keras import layers\n"
      ]
    },
    {
      "cell_type": "code",
      "execution_count": null,
      "metadata": {
        "colab": {
          "base_uri": "https://localhost:8080/",
          "height": 449
        },
        "id": "GhUkxjXSHnko",
        "outputId": "ab073921-da2a-4580-eaa9-0f5782f4412b"
      },
      "outputs": [
        {
          "output_type": "display_data",
          "data": {
            "text/plain": [
              "<Figure size 640x480 with 1 Axes>"
            ],
            "image/png": "[encoded data removed]"
          },
          "metadata": {}
        }
      ],
      "source": [
        "\n",
        "sns.countplot(x=data_label)\n",
        "plt.show()\n"
      ]
    },
    {
      "cell_type": "code",
      "execution_count": null,
      "metadata": {
        "colab": {
          "base_uri": "https://localhost:8080/"
        },
        "id": "_EiPptacHqWc",
        "outputId": "947131c9-61ca-4bd7-d713-239bc1a2b833"
      },
      "outputs": [
        {
          "output_type": "stream",
          "name": "stdout",
          "text": [
            "20616\n",
            "0.14818587504850603\n",
            "0.851814124951494\n",
            "3055\n",
            "17561\n"
          ]
        }
      ],
      "source": [
        "#l_2024_Y_2023\n",
        "spam = 0\n",
        "ham = 0\n",
        "taille=20616\n",
        "for e in data_label:\n",
        "  if e == 1.0:\n",
        "    spam +=1\n",
        "  else:\n",
        "    ham +=1\n",
        "print(ham + spam)\n",
        "print(spam/taille)\n",
        "print(ham/taille)\n",
        "print(spam)\n",
        "print(ham)"
      ]
    },
    {
      "cell_type": "code",
      "execution_count": null,
      "metadata": {
        "colab": {
          "base_uri": "https://localhost:8080/"
        },
        "id": "GGr6yE6EHs11",
        "outputId": "c6073a4c-1bab-45c6-949d-f059b008d5c4"
      },
      "outputs": [
        {
          "output_type": "stream",
          "name": "stderr",
          "text": [
            "[nltk_data] Downloading package stopwords to /root/nltk_data...\n",
            "[nltk_data]   Unzipping corpora/stopwords.zip.\n",
            "[nltk_data] Downloading package punkt to /root/nltk_data...\n",
            "[nltk_data]   Unzipping tokenizers/punkt.zip.\n",
            "[nltk_data] Downloading package wordnet to /root/nltk_data...\n"
          ]
        }
      ],
      "source": [
        "# Libraries needed for NLP\n",
        "import nltk\n",
        "import re\n",
        "\n",
        "# Stopwords\n",
        "nltk.download('stopwords')\n",
        "nltk.download('punkt')\n",
        "from nltk.corpus import stopwords\n",
        "stop_words = set(stopwords.words('english'))\n",
        "\n",
        "# Stemmers\n",
        "from nltk.stem.porter import PorterStemmer\n",
        "from nltk.stem.snowball import SnowballStemmer\n",
        "\n",
        "# Lemmatizer\n",
        "nltk.download('wordnet')\n",
        "from nltk.stem import WordNetLemmatizer"
      ]
    },
    {
      "cell_type": "code",
      "execution_count": null,
      "metadata": {
        "colab": {
          "base_uri": "https://localhost:8080/"
        },
        "id": "zoJdlA1xHyYD",
        "outputId": "1d2003f2-f058-4309-84a8-833fe5bf177e"
      },
      "outputs": [
        {
          "output_type": "stream",
          "name": "stdout",
          "text": [
            "Collecting fasttext\n",
            "  Downloading fasttext-0.9.2.tar.gz (68 kB)\n",
            "\u001b[2K     \u001b[90m━━━━━━━━━━━━━━━━━━━━━━━━━━━━━━━━━━━━━━━━\u001b[0m \u001b[32m68.8/68.8 kB\u001b[0m \u001b[31m520.7 kB/s\u001b[0m eta \u001b[36m0:00:00\u001b[0m\n",
            "\u001b[?25h  Preparing metadata (setup.py) ... \u001b[?25l\u001b[?25hdone\n",
            "Collecting pybind11>=2.2 (from fasttext)\n",
            "  Using cached pybind11-2.11.1-py3-none-any.whl (227 kB)\n",
            "Requirement already satisfied: setuptools>=0.7.0 in /usr/local/lib/python3.10/dist-packages (from fasttext) (67.7.2)\n",
            "Requirement already satisfied: numpy in /usr/local/lib/python3.10/dist-packages (from fasttext) (1.25.2)\n",
            "Building wheels for collected packages: fasttext\n",
            "  Building wheel for fasttext (setup.py) ... \u001b[?25l\u001b[?25hdone\n",
            "  Created wheel for fasttext: filename=fasttext-0.9.2-cp310-cp310-linux_x86_64.whl size=4199775 sha256=b11c152af06966c5370743f9d257361831ec826f65f5ffb86d0fcecddfc61aea\n",
            "  Stored in directory: /root/.cache/pip/wheels/a5/13/75/f811c84a8ab36eedbaef977a6a58a98990e8e0f1967f98f394\n",
            "Successfully built fasttext\n",
            "Installing collected packages: pybind11, fasttext\n",
            "Successfully installed fasttext-0.9.2 pybind11-2.11.1\n"
          ]
        }
      ],
      "source": [
        "!pip install fasttext"
      ]
    },
    {
      "cell_type": "code",
      "execution_count": null,
      "metadata": {
        "colab": {
          "base_uri": "https://localhost:8080/"
        },
        "id": "gVLN2s8NHzSN",
        "outputId": "6327d922-563e-4106-acec-9a1940795db3"
      },
      "outputs": [
        {
          "output_type": "stream",
          "name": "stderr",
          "text": [
            "Warning : `load_model` does not return WordVectorModel or SupervisedModel any more, but a `FastText` object which is very similar.\n"
          ]
        }
      ],
      "source": [
        "import fasttext\n",
        "\n",
        "PRETRAINED_MODEL_PATH = '/content/drive/MyDrive/fastext/lid.176.bin'\n",
        "model_fastext = fasttext.load_model(PRETRAINED_MODEL_PATH)\n"
      ]
    },
    {
      "cell_type": "code",
      "execution_count": null,
      "metadata": {
        "id": "YjcgVeb_H2VE"
      },
      "outputs": [],
      "source": [
        "data_sms = []\n",
        "text = []\n",
        "# Store it in a variable\n",
        "ps = PorterStemmer()\n",
        "lemmatizer = WordNetLemmatizer()\n",
        "# Cleanup\n",
        "# Store it in a variable\n",
        "ps = PorterStemmer()\n",
        "lemmatizer = WordNetLemmatizer()\n",
        "def clean_data_en(text):\n",
        "  '''Make text lowercase, remove text in square brackets,remove links,remove punctuation\n",
        "    and remove words containing numbers.'''\n",
        "  # replace email address with 'emailaddress'\n",
        "  text = re.sub('([A-Za-z0-9._%+-]+@[A-Za-z0-9.-]+\\.[A-Za-z]{2,})', r'emailadress', str(text))\n",
        "  # replace urls with 'webaddress'\n",
        "  text = re.sub('(https://[a-zA-Z0-9\\-\\.]+\\.[a-zA-Z]{2,3}(/\\S*)?$)', r'webaddress', str(text))\n",
        "  # replace 10 digit phone number with 'phone-number'\n",
        "  text =  re.sub('(?:\\d{8}(?:\\d{2}(?:\\d{2})?)?|\\(\\+?\\d{2,3}\\)\\s?(?:\\d{4}[\\s*.-]?\\d{4}|\\d{3}[\\s*.-]?\\d{3}|\\d{2}([\\s*.-]?)\\d{2}\\1\\d{2}(?:\\1\\d{2})?))', r'phone-number', text)\n",
        "  # replace normal number with 'number'\n",
        "  text = re.sub('\\d+(\\.\\d+)?', r'number', text)\n",
        "  # remove punctuation\n",
        "  text=re.sub('[^\\w\\d\\s]', r' ',text)\n",
        "  # remove whitespace between terms with single space\n",
        "  text = re.sub('\\s+', r' ', text)\n",
        "  # remove leading and trailing whitespace\n",
        "  text = re.sub('^\\s+|\\s*?$', r' ',text)\n",
        "  # change words to lower case\n",
        "  text = re.sub('(https://[a-zA-Z0-9\\-\\.]+\\.[a-zA-Z]{2,3}(/\\S*)?$)', r' url', text)\n",
        "  text = re.sub('(00237[1-9] *[0-9]{8}|\\+237[1-9] *[0-9]{8}|(237[1-9] *[0-9]{8})|(6[2|3|5-9] *[0-9]{7}))', r' phoneNumber', text)\n",
        "  text = re.sub('(?:\\d{8}(?:\\d{2}(?:\\d{2})?)?|\\(\\+?\\d{2,3}\\)\\s?(?:\\d{4}[\\s*.-]?\\d{4}|\\d{3}[\\s*.-]?\\d{3}|\\d{2}([\\s*.-]?)\\d{2}\\1\\d{2}(?:\\1\\d{2})?))', r' phoneNumber', text)\n",
        "  text = re.sub('[\\d]{1,10}fcfa|[\\d]{1,10}FCFA|[\\d]{1,10}Fr|[\\d]{1,10}fr|[\\d]{1,10}FCFA|[\\d]{1,10} fcfa|[\\d]{1,10} FCFA|[\\d]{1,10} Fr|[\\d]{1,10} fr', r' money', text)\n",
        "  text = re.sub('[\\d]{1,10}GO|[\\d]{1,10}Go|[\\d]{1,10}gO|[\\d]{1,10}go|[\\d]{1,10} GO|[\\d]{1,10} Go|[\\d]{1,10} gO|[\\d]{1,10} go', r' dataConnexion', text)\n",
        "  text = re.sub('([http//[a-zA-Z0-9\\-\\.]+\\.[a-zA-Z]{2,3}(/\\S*)?$)| (https://[a-zA-Z0-9\\-\\.]+\\.[a-zA-Z]{2,3}(/\\S*)?$)|(www.https://[a-zA-Z0-9\\-\\.]+\\.[a-zA-Z]{2,3}(/\\S*)?$)|(www.http//[a-zA-Z0-9\\-\\.]+\\.[a-zA-Z]{2,3}(/\\S*)?$)', r' adressWeb', text)\n",
        "  text = text.lower()\n",
        "  return text\n",
        "\n",
        "def clean_data_fr(text):\n",
        "    '''Make text lowercase, remove text in square brackets,remove links,remove punctuation\n",
        "      and remove words containing numbers.'''\n",
        "    # replace email address with 'emailaddress'\n",
        "    text = re.sub('([A-Za-z0-9._%+-]+@[A-Za-z0-9.-]+\\.[A-Za-z]{2,})', r'adresseemail', str(text))\n",
        "    # replace urls with 'webaddress'\n",
        "    text = re.sub('(https://[a-zA-Z0-9\\-\\.]+\\.[a-zA-Z]{2,3}(/\\S*)?$)', r'adresseweb', str(text))\n",
        "    # replace 10 digit phone number with 'phone-number'\n",
        "    text =  re.sub('(?:\\d{8}(?:\\d{2}(?:\\d{2})?)?|\\(\\+?\\d{2,3}\\)\\s?(?:\\d{4}[\\s*.-]?\\d{4}|\\d{3}[\\s*.-]?\\d{3}|\\d{2}([\\s*.-]?)\\d{2}\\1\\d{2}(?:\\1\\d{2})?))', r'phone-number', text)\n",
        "    # replace normal number with 'number'\n",
        "    text = re.sub('\\d+(\\.\\d+)?', r'numero', text)\n",
        "    # remove punctuation\n",
        "    text=re.sub('[^\\w\\d\\s]', r' ',text)\n",
        "    # remove whitespace between terms with single space\n",
        "    text = re.sub('\\s+', r' ', text)\n",
        "    # remove leading and trailing whitespace\n",
        "    text = re.sub('^\\s+|\\s*?$', r' ',text)\n",
        "    # change words to lower case\n",
        "    text = re.sub('(https://[a-zA-Z0-9\\-\\.]+\\.[a-zA-Z]{2,3}(/\\S*)?$)', r' url', text)\n",
        "    text = re.sub('(00237[1-9] *[0-9]{8}|\\+237[1-9] *[0-9]{8}|(237[1-9] *[0-9]{8})|(6[2|3|5-9] *[0-9]{7}))', r' numero_telephone', text)\n",
        "    text = re.sub('(?:\\d{8}(?:\\d{2}(?:\\d{2})?)?|\\(\\+?\\d{2,3}\\)\\s?(?:\\d{4}[\\s*.-]?\\d{4}|\\d{3}[\\s*.-]?\\d{3}|\\d{2}([\\s*.-]?)\\d{2}\\1\\d{2}(?:\\1\\d{2})?))', r' numeroTelephone', text)\n",
        "    text = re.sub('[\\d]{1,10}fcfa|[\\d]{1,10}FCFA|[\\d]{1,10}Fr|[\\d]{1,10}fr|[\\d]{1,10}FCFA|[\\d]{1,10} fcfa|[\\d]{1,10} FCFA|[\\d]{1,10} Fr|[\\d]{1,10} fr', r' argent', text)\n",
        "    text = re.sub('[\\d]{1,10}GO|[\\d]{1,10}Go|[\\d]{1,10}gO|[\\d]{1,10}go|[\\d]{1,10} GO|[\\d]{1,10} Go|[\\d]{1,10} gO|[\\d]{1,10} go', r' donneeInternet', text)\n",
        "    text = re.sub('([http//[a-zA-Z0-9\\-\\.]+\\.[a-zA-Z]{2,3}(/\\S*)?$)| (https://[a-zA-Z0-9\\-\\.]+\\.[a-zA-Z]{2,3}(/\\S*)?$)|(www.https://[a-zA-Z0-9\\-\\.]+\\.[a-zA-Z]{2,3}(/\\S*)?$)|(www.http//[a-zA-Z0-9\\-\\.]+\\.[a-zA-Z]{2,3}(/\\S*)?$)', r' adresseWeb', text)\n",
        "    text = text.lower()\n",
        "    return text\n"
      ]
    },
    {
      "cell_type": "code",
      "execution_count": null,
      "metadata": {
        "id": "sUGKRzGCH5eM"
      },
      "outputs": [],
      "source": [
        "    from nltk.corpus import stopwords\n",
        "\n",
        "    more_stopwords = ['u', 'im', 'c']\n",
        "    englishStopWord = stopwords.words(\"english\")\n",
        "    frenchStopWord = stopwords.words(\"french\")\n",
        "    englishStopWord = stopwords.words(\"english\") + more_stopwords\n",
        "    french_english =  englishStopWord +frenchStopWord\n",
        "    def testFuncOld(text):\n",
        "        text = ' '.join([word for word in text.split() if word not in englishStopWord])\n",
        "        return text\n",
        "\n",
        "    def testFrenchEnglish(text):\n",
        "        text = ' '.join([word for word in text.split() if word not in french_english])\n",
        "        return text\n",
        "\n",
        "    def testFuncNew(text):\n",
        "        text = ' '.join([word for word in text.split() if word not in text])\n",
        "        return text\n",
        "\n",
        "        #remove french stop wo13/02/2023, 09:54 - +237 99824722: rd\n",
        "    def testFuncOldFrench(text):\n",
        "        text = ' '.join([word for word in text.split() if word not in stopwords.words(\"french\")])\n",
        "        return text\n",
        "\n",
        "    def testFuncNewFrench(text):\n",
        "        text = ' '.join([word for word in text.split() if word not in text])\n",
        "        return text\n",
        "\n",
        "    def eliminer(text):\n",
        "      text = str(text).replace('\\n', ' ')\n",
        "      predictions = model_fastext.predict(text)\n",
        "      if predictions[0][0] == '__label__fr':\n",
        "        text = clean_data_fr(text)\n",
        "        text = testFuncOldFrench(text)\n",
        "      elif predictions[0][0] == '__label__en':\n",
        "        text = clean_data_en(text)\n",
        "        text = testFuncOld(text)\n",
        "      else:\n",
        "        clean_data_en(text)\n",
        "        text = clean_data_fr(text)\n",
        "        text = testFrenchEnglish(text)\n",
        "      return text\n"
      ]
    },
    {
      "cell_type": "code",
      "execution_count": null,
      "metadata": {
        "id": "ash56qReH8Mz"
      },
      "outputs": [],
      "source": [
        "data['SMS']= data['SMS'].apply(eliminer)"
      ]
    },
    {
      "cell_type": "code",
      "execution_count": null,
      "metadata": {
        "colab": {
          "base_uri": "https://localhost:8080/"
        },
        "id": "MVTEZ0WAM-PW",
        "outputId": "bf609f69-5711-4b4f-d67d-c1176e09de06"
      },
      "outputs": [
        {
          "output_type": "stream",
          "name": "stdout",
          "text": [
            "1117\n",
            "0\n",
            "37\n"
          ]
        }
      ],
      "source": [
        "y = data_label\n",
        "\n",
        "print(max(len(s) for s in data['SMS']))\n",
        "print(min(len(s)for s in data['SMS']))\n",
        "sorted_X = sorted(len(s) for s in data['SMS'])\n",
        "print(sorted_X[len(sorted_X) // 2])\n"
      ]
    },
    {
      "cell_type": "code",
      "execution_count": null,
      "metadata": {
        "colab": {
          "base_uri": "https://localhost:8080/"
        },
        "id": "y4Y8TXSZNIhW",
        "outputId": "2e726912-63f1-4d54-fc45-94b5f3321268"
      },
      "outputs": [
        {
          "output_type": "stream",
          "name": "stdout",
          "text": [
            "16205\n"
          ]
        }
      ],
      "source": [
        "tokenizer = Tokenizer()\n",
        "tokenizer.fit_on_texts(data['SMS'])\n",
        "sequences = tokenizer.texts_to_sequences(data['SMS'])\n",
        "\n",
        "vocab_size = len(tokenizer.word_index)+1\n",
        "print(vocab_size)"
      ]
    },
    {
      "cell_type": "code",
      "execution_count": null,
      "metadata": {
        "colab": {
          "base_uri": "https://localhost:8080/"
        },
        "id": "LzrFH-ZxNJyf",
        "outputId": "835189d7-0cf9-4835-d50c-53750a32476a"
      },
      "outputs": [
        {
          "data": {
            "text/plain": [
              "9"
            ]
          },
          "execution_count": 17,
          "metadata": {},
          "output_type": "execute_result"
        }
      ],
      "source": [
        "# divide sum of length of all sequences by number of all sequences to find averge length of each sequence\n",
        "sum([len(x) for x in sequences]) // len(sequences)"
      ]
    },
    {
      "cell_type": "code",
      "execution_count": null,
      "metadata": {
        "id": "nbU6uYyyNNlc"
      },
      "outputs": [],
      "source": [
        "pad = 'post'\n",
        "max_len = 37\n",
        "embedding_size = 100\n",
        "batch_size = 20\n",
        "sequences = pad_sequences(sequences, maxlen=max_len, padding=pad, truncating=pad)\n",
        "sequences.shape\n",
        "\n",
        "X_train, X_test, y_train, y_test = train_test_split(sequences, y, test_size = 0.2, random_state= 0)"
      ]
    },
    {
      "cell_type": "code",
      "execution_count": null,
      "metadata": {
        "colab": {
          "base_uri": "https://localhost:8080/"
        },
        "id": "pr_Aie9YjcVB",
        "outputId": "beb3e90e-d13d-4042-b285-b4b93e98ae5b"
      },
      "outputs": [
        {
          "output_type": "stream",
          "name": "stdout",
          "text": [
            "4124\n"
          ]
        }
      ],
      "source": [
        "print(len(y_test))"
      ]
    },
    {
      "cell_type": "code",
      "execution_count": null,
      "metadata": {
        "colab": {
          "base_uri": "https://localhost:8080/"
        },
        "id": "JHsNbGTfNQpR",
        "outputId": "cdab6456-d934-483f-964f-d0fc2d3059ab"
      },
      "outputs": [
        {
          "name": "stdout",
          "output_type": "stream",
          "text": [
            "Model: \"sequential\"\n",
            "_________________________________________________________________\n",
            " Layer (type)                Output Shape              Param #   \n",
            "=================================================================\n",
            " embedding (Embedding)       (None, 37, 100)           1620500   \n",
            "                                                                 \n",
            " dropout (Dropout)           (None, 37, 100)           0         \n",
            "                                                                 \n",
            " lstm (LSTM)                 (None, 140)               134960    \n",
            "                                                                 \n",
            " dropout_1 (Dropout)         (None, 140)               0         \n",
            "                                                                 \n",
            " Classification (Dense)      (None, 1)                 141       \n",
            "                                                                 \n",
            "=================================================================\n",
            "Total params: 1755601 (6.70 MB)\n",
            "Trainable params: 1755601 (6.70 MB)\n",
            "Non-trainable params: 0 (0.00 Byte)\n",
            "_________________________________________________________________\n"
          ]
        }
      ],
      "source": [
        "model = Sequential()\n",
        "model.add(Embedding(input_dim=vocab_size, output_dim=embedding_size, input_length=max_len))\n",
        "model.add(Dropout(0.8))\n",
        "model.add(LSTM(140, return_sequences=False))\n",
        "model.add(Dropout(0.8))\n",
        "model.add(Dense(1, activation='sigmoid', name='Classification'))\n",
        "model.summary()"
      ]
    },
    {
      "cell_type": "code",
      "execution_count": null,
      "metadata": {
        "id": "UtRqjID7NUUu"
      },
      "outputs": [],
      "source": [
        "model.compile(optimizer='adam', loss='binary_crossentropy', metrics=['accuracy'])\n",
        "#save_best = ModelCheckpoint('SpamDetection.hdf', save_best_only=True, monitor='val_acc', mode='max')\n",
        "# callback_early_stopping = EarlyStopping(monitor='val_loss', patience=5, verbose=1)"
      ]
    },
    {
      "cell_type": "code",
      "execution_count": null,
      "metadata": {
        "id": "rn4zQb-BNqq6"
      },
      "outputs": [],
      "source": [
        "X_train = np.array(X_train)\n",
        "y_train = np.array(y_train)"
      ]
    },
    {
      "cell_type": "code",
      "execution_count": null,
      "metadata": {
        "colab": {
          "background_save": true,
          "base_uri": "https://localhost:8080/"
        },
        "id": "P_fAmnc1NYVp",
        "outputId": "63be436e-ff0b-432a-8e74-fce941dbd62a"
      },
      "outputs": [
        {
          "name": "stdout",
          "output_type": "stream",
          "text": [
            "Epoch 1/10\n",
            "660/660 [==============================] - 63s 92ms/step - loss: 0.1571 - accuracy: 0.9554 - val_loss: 0.0794 - val_accuracy: 0.9673\n",
            "Epoch 2/10\n",
            "660/660 [==============================] - 65s 99ms/step - loss: 0.0461 - accuracy: 0.9886 - val_loss: 0.0454 - val_accuracy: 0.9894\n",
            "Epoch 3/10\n",
            "660/660 [==============================] - 63s 95ms/step - loss: 0.0311 - accuracy: 0.9919 - val_loss: 0.0745 - val_accuracy: 0.9864\n",
            "Epoch 4/10\n",
            "660/660 [==============================] - 63s 95ms/step - loss: 0.1166 - accuracy: 0.9785 - val_loss: 0.1072 - val_accuracy: 0.9770\n",
            "Epoch 5/10\n",
            "660/660 [==============================] - 61s 93ms/step - loss: 0.1005 - accuracy: 0.9807 - val_loss: 0.1082 - val_accuracy: 0.9703\n",
            "Epoch 6/10\n",
            "660/660 [==============================] - 61s 92ms/step - loss: 0.0934 - accuracy: 0.9805 - val_loss: 0.1057 - val_accuracy: 0.9733\n",
            "Epoch 7/10\n",
            "660/660 [==============================] - 65s 99ms/step - loss: 0.0687 - accuracy: 0.9871 - val_loss: 0.0490 - val_accuracy: 0.9891\n",
            "Epoch 8/10\n",
            "660/660 [==============================] - 63s 96ms/step - loss: 0.0342 - accuracy: 0.9923 - val_loss: 0.0982 - val_accuracy: 0.9809\n",
            "Epoch 9/10\n",
            "660/660 [==============================] - 72s 109ms/step - loss: 0.0434 - accuracy: 0.9894 - val_loss: 0.0416 - val_accuracy: 0.9897\n",
            "Epoch 10/10\n",
            "660/660 [==============================] - 61s 93ms/step - loss: 0.0214 - accuracy: 0.9957 - val_loss: 0.0444 - val_accuracy: 0.9885\n"
          ]
        }
      ],
      "source": [
        "# Uses Automatic Verification Datasets (fastest option)\n",
        "# model.fit(X_train, y_train, epochs=n_epochs, batch_size=batch_size, validation_split=0.1, callbacks=[callback_early_stopping])\n",
        "n_epochs = 10\n",
        "results = model.fit(X_train, y_train, epochs=n_epochs, batch_size=batch_size, validation_split=0.2, verbose=1)"
      ]
    },
    {
      "cell_type": "code",
      "execution_count": null,
      "metadata": {
        "colab": {
          "background_save": true
        },
        "id": "fdB6UjZoJyfy",
        "outputId": "9a475125-a707-49a7-a693-fb2c7a8c1ee5"
      },
      "outputs": [
        {
          "name": "stdout",
          "output_type": "stream",
          "text": [
            "Model: \"sequential\"\n",
            "_________________________________________________________________\n",
            " Layer (type)                Output Shape              Param #   \n",
            "=================================================================\n",
            " embedding (Embedding)       (None, 37, 100)           1620500   \n",
            "                                                                 \n",
            " dropout (Dropout)           (None, 37, 100)           0         \n",
            "                                                                 \n",
            " lstm (LSTM)                 (None, 140)               134960    \n",
            "                                                                 \n",
            " dropout_1 (Dropout)         (None, 140)               0         \n",
            "                                                                 \n",
            " Classification (Dense)      (None, 1)                 141       \n",
            "                                                                 \n",
            "=================================================================\n",
            "Total params: 1755601 (6.70 MB)\n",
            "Trainable params: 1755601 (6.70 MB)\n",
            "Non-trainable params: 0 (0.00 Byte)\n",
            "_________________________________________________________________\n",
            "<keras.src.callbacks.History object at 0x7d6b6eeebb50>\n",
            "Training Accuracy: 0.99569488\n",
            "ok\n",
            "Testing Accuracy:  0.98884577\n"
          ]
        }
      ],
      "source": [
        "model.summary()\n",
        "print(results)\n",
        "loss, accuracy = model.evaluate(X_train , y_train , verbose=False)\n",
        "#print(\"************************Results for class :\"+str(curr_class)+\"*********************\")\n",
        "print(\"Training Accuracy: {:.8f}\".format(accuracy))\n",
        "print(\"ok\")\n",
        "loss, accuracy = model.evaluate(X_test, y_test, verbose=False)\n",
        "print(\"Testing Accuracy:  {:.8f}\".format(accuracy))"
      ]
    },
    {
      "cell_type": "code",
      "execution_count": null,
      "metadata": {
        "colab": {
          "background_save": true
        },
        "id": "TXAse_EQNvw4",
        "outputId": "c7d7ca92-d9d5-48a7-eebe-27dd87f9bf56"
      },
      "outputs": [
        {
          "name": "stdout",
          "output_type": "stream",
          "text": [
            "129/129 [==============================] - 4s 29ms/step - loss: 0.0462 - accuracy: 0.9888\n",
            "0.046173423528671265 0.9888457655906677\n"
          ]
        }
      ],
      "source": [
        "# model.load_weights(filepath='SpamDetection.hdf')\n",
        "import numpy as np\n",
        "from tensorflow import keras\n",
        "X_test = np.array(X_test)\n",
        "y_test = np.array(y_test)\n",
        "eval_ = model.evaluate(X_test, y_test)\n",
        "print(eval_[0], eval_[1]) # loss / accuracy"
      ]
    },
    {
      "cell_type": "code",
      "execution_count": null,
      "metadata": {
        "colab": {
          "background_save": true
        },
        "id": "gnvuDY63JVwS"
      },
      "outputs": [],
      "source": [
        "from sklearn.metrics import classification_report, confusion_matrix, accuracy_score\n",
        "\n",
        "def c_report(y_true, y_pred):\n",
        "   print(\"Classification Report\")\n",
        "   print(classification_report(y_true, y_pred))\n",
        "   acc_sc = accuracy_score(y_true, y_pred)\n",
        "   print(\"Accuracy : {:.7f}\"+ str(format(acc_sc)))\n",
        "   return acc_sc\n",
        "\n",
        "def plot_confusion_matrix(y_true, y_pred):\n",
        "   mtx = confusion_matrix(y_true, y_pred)\n",
        "   sns.heatmap(mtx, annot=True, fmt='d', linewidths=.5,\n",
        "               cmap=\"Blues\", cbar=False)\n",
        "   plt.ylabel('True label')\n",
        "   plt.xlabel('Predicted label')"
      ]
    },
    {
      "cell_type": "code",
      "execution_count": null,
      "metadata": {
        "colab": {
          "background_save": true
        },
        "id": "mAvjKrZDJi-Y",
        "outputId": "88575e1e-9a85-4423-9bd8-7ffe5fb44538"
      },
      "outputs": [
        {
          "name": "stdout",
          "output_type": "stream",
          "text": [
            "129/129 [==============================] - 3s 22ms/step\n"
          ]
        }
      ],
      "source": [
        "preds = (model.predict(X_test) > 0.5).astype(\"int32\")"
      ]
    },
    {
      "cell_type": "code",
      "execution_count": null,
      "metadata": {
        "colab": {
          "background_save": true
        },
        "id": "0bk31NjXKay2",
        "outputId": "76ae47f4-71ab-4356-c90e-1cce9a133538"
      },
      "outputs": [
        {
          "name": "stdout",
          "output_type": "stream",
          "text": [
            "Classification Report\n",
            "              precision    recall  f1-score   support\n",
            "\n",
            "         0.0       0.99      0.99      0.99      3481\n",
            "         1.0       0.96      0.97      0.96       643\n",
            "\n",
            "    accuracy                           0.99      4124\n",
            "   macro avg       0.98      0.98      0.98      4124\n",
            "weighted avg       0.99      0.99      0.99      4124\n",
            "\n",
            "Accuracy : {:.7f}0.9888457807953444\n"
          ]
        },
        {
          "data": {
            "text/plain": [
              "0.9888457807953444"
            ]
          },
          "execution_count": 28,
          "metadata": {},
          "output_type": "execute_result"
        }
      ],
      "source": [
        "c_report(y_test, preds)"
      ]
    },
    {
      "cell_type": "code",
      "execution_count": null,
      "metadata": {
        "colab": {
          "background_save": true
        },
        "id": "i7Ebbp1QKrE0",
        "outputId": "dbc701cf-da96-468e-8638-8bf465129f00"
      },
      "outputs": [
        {
          "name": "stdout",
          "output_type": "stream",
          "text": [
            "Collecting langdetect\n",
            "  Downloading langdetect-1.0.9.tar.gz (981 kB)\n",
            "\u001b[2K     \u001b[90m━━━━━━━━━━━━━━━━━━━━━━━━━━━━━━━━━━━━━━━━\u001b[0m \u001b[32m981.5/981.5 kB\u001b[0m \u001b[31m6.9 MB/s\u001b[0m eta \u001b[36m0:00:00\u001b[0m\n",
            "\u001b[?25h  Preparing metadata (setup.py) ... \u001b[?25l\u001b[?25hdone\n",
            "Requirement already satisfied: six in /usr/local/lib/python3.10/dist-packages (from langdetect) (1.16.0)\n",
            "Building wheels for collected packages: langdetect\n",
            "  Building wheel for langdetect (setup.py) ... \u001b[?25l\u001b[?25hdone\n",
            "  Created wheel for langdetect: filename=langdetect-1.0.9-py3-none-any.whl size=993225 sha256=5b8b2fd8d124ef930fb1fda10fe0fc335243f49e92e21e2bec0e8b774b8688ba\n",
            "  Stored in directory: /root/.cache/pip/wheels/95/03/7d/59ea870c70ce4e5a370638b5462a7711ab78fba2f655d05106\n",
            "Successfully built langdetect\n",
            "Installing collected packages: langdetect\n",
            "Successfully installed langdetect-1.0.9\n"
          ]
        },
        {
          "data": {
            "image/png": "[encoded data removed]",
            "text/plain": [
              "<Figure size 640x480 with 1 Axes>"
            ]
          },
          "metadata": {},
          "output_type": "display_data"
        }
      ],
      "source": [
        "import pandas as pd # Pour l'analyse et le traitement des données\n",
        "import numpy as np # Pour le calcul numerique\n",
        "import matplotlib.pyplot as plt # Pour la visualisation\n",
        "import seaborn as sns # Pour la visualisation\n",
        "from sklearn.cluster import KMeans # Pour la création du model\n",
        "!pip install langdetect\n",
        "from langdetect import detect\n",
        "np.set_printoptions(precision=8)\n",
        "plot_confusion_matrix(y_test, preds)"
      ]
    },
    {
      "cell_type": "code",
      "execution_count": null,
      "metadata": {
        "colab": {
          "background_save": true
        },
        "id": "Ee0pir7zo8DY",
        "outputId": "4f55cb43-34c5-44f1-c6c1-241ea00c9c2d"
      },
      "outputs": [
        {
          "data": {
            "image/png": "[encoded data removed]",
            "text/plain": [
              "<Figure size 1200x500 with 2 Axes>"
            ]
          },
          "metadata": {},
          "output_type": "display_data"
        }
      ],
      "source": [
        "import matplotlib.pyplot as plt\n",
        "from keras.callbacks import History\n",
        "\n",
        "def plot_model(result):\n",
        "    acc = result.history['accuracy']\n",
        "    val_acc = result.history['val_accuracy']\n",
        "    loss = result.history['loss']\n",
        "    val_loss = result.history['val_loss']\n",
        "    x = range(1, len(acc)+1)\n",
        "\n",
        "    plt.figure(figsize=(12, 5))\n",
        "    plt.subplot(1,2,1)\n",
        "    plt.plot(x, acc, 'b', label='Training acc')\n",
        "    plt.plot(x, val_acc, 'r', label= 'Validation acc')\n",
        "    plt.legend()\n",
        "\n",
        "    plt.subplot(1,2,2)\n",
        "    plt.plot(x, loss, 'b', label='Training loss')\n",
        "    plt.plot(x, val_loss, 'r', label='validation loss')\n",
        "    plt.legend()\n",
        "\n",
        "plot_model(results)"
      ]
    },
    {
      "cell_type": "markdown",
      "metadata": {
        "id": "v1-IXOgkPWIZ"
      },
      "source": [
        "Modele de GRU"
      ]
    },
    {
      "cell_type": "code",
      "execution_count": null,
      "metadata": {
        "colab": {
          "base_uri": "https://localhost:8080/"
        },
        "id": "kfzTbZLPN5ag",
        "outputId": "ac77b013-32e0-4989-b4b6-f1a5407f1457"
      },
      "outputs": [
        {
          "name": "stdout",
          "output_type": "stream",
          "text": [
            "Model: \"sequential_1\"\n",
            "_________________________________________________________________\n",
            " Layer (type)                Output Shape              Param #   \n",
            "=================================================================\n",
            " embedding_1 (Embedding)     (None, 25, 100)           1620500   \n",
            "                                                                 \n",
            " dropout_2 (Dropout)         (None, 25, 100)           0         \n",
            "                                                                 \n",
            " gru (GRU)                   (None, 140)               101640    \n",
            "                                                                 \n",
            " dropout_3 (Dropout)         (None, 140)               0         \n",
            "                                                                 \n",
            " Classification (Dense)      (None, 1)                 141       \n",
            "                                                                 \n",
            "=================================================================\n",
            "Total params: 1722281 (6.57 MB)\n",
            "Trainable params: 1722281 (6.57 MB)\n",
            "Non-trainable params: 0 (0.00 Byte)\n",
            "_________________________________________________________________\n",
            "Epoch 1/10\n",
            "660/660 [==============================] - 47s 66ms/step - loss: 0.1285 - accuracy: 0.9594 - val_loss: 0.0535 - val_accuracy: 0.9855\n",
            "Epoch 2/10\n",
            "660/660 [==============================] - 44s 66ms/step - loss: 0.0322 - accuracy: 0.9919 - val_loss: 0.0541 - val_accuracy: 0.9891\n",
            "Epoch 3/10\n",
            "660/660 [==============================] - 45s 68ms/step - loss: 0.0245 - accuracy: 0.9933 - val_loss: 0.0428 - val_accuracy: 0.9897\n",
            "Epoch 4/10\n",
            "660/660 [==============================] - 45s 68ms/step - loss: 0.0214 - accuracy: 0.9942 - val_loss: 0.0377 - val_accuracy: 0.9909\n",
            "Epoch 5/10\n",
            "660/660 [==============================] - 45s 69ms/step - loss: 0.0140 - accuracy: 0.9964 - val_loss: 0.0760 - val_accuracy: 0.9906\n",
            "Epoch 6/10\n",
            "660/660 [==============================] - 45s 68ms/step - loss: 0.0137 - accuracy: 0.9967 - val_loss: 0.0261 - val_accuracy: 0.9912\n",
            "Epoch 7/10\n",
            "660/660 [==============================] - 52s 78ms/step - loss: 0.0093 - accuracy: 0.9977 - val_loss: 0.0388 - val_accuracy: 0.9903\n",
            "Epoch 8/10\n",
            "660/660 [==============================] - 46s 69ms/step - loss: 0.0096 - accuracy: 0.9973 - val_loss: 0.0425 - val_accuracy: 0.9909\n",
            "Epoch 9/10\n",
            "660/660 [==============================] - 46s 70ms/step - loss: 0.0124 - accuracy: 0.9973 - val_loss: 0.0486 - val_accuracy: 0.9903\n",
            "Epoch 10/10\n",
            "660/660 [==============================] - 45s 68ms/step - loss: 0.0075 - accuracy: 0.9984 - val_loss: 0.0428 - val_accuracy: 0.9906\n",
            "129/129 [==============================] - 2s 12ms/step - loss: 0.0464 - accuracy: 0.9884\n",
            "0.04641902074217796 0.9883608222007751\n"
          ]
        }
      ],
      "source": [
        "model1 = Sequential()\n",
        "model1.add(Embedding(input_dim=vocab_size, output_dim=embedding_size, input_length=max_len))\n",
        "model1.add(Dropout(0.8))\n",
        "model1.add(GRU(140, return_sequences=False))\n",
        "model1.add(Dropout(0.86))\n",
        "model1.add(Dense(1, activation='sigmoid', name='Classification'))\n",
        "model1.summary()\n",
        "\n",
        "model1.compile(optimizer='adam', loss='binary_crossentropy', metrics=['accuracy'])\n",
        "results1 = model1.fit(X_train, y_train, epochs=n_epochs, batch_size=batch_size, validation_split=0.2)\n",
        "\n",
        "eval_ = model1.evaluate(X_test, y_test)\n",
        "print(eval_[0], eval_[1]) # loss / accuracy\n",
        "\n"
      ]
    },
    {
      "cell_type": "markdown",
      "metadata": {
        "id": "zHUjnQ4iPe-S"
      },
      "source": [
        "Evaluation du modele GRU"
      ]
    },
    {
      "cell_type": "code",
      "execution_count": null,
      "metadata": {
        "colab": {
          "base_uri": "https://localhost:8080/"
        },
        "id": "YKr3PuA9PaKe",
        "outputId": "240949b1-1d97-4ffc-ebf9-2c01732aca75"
      },
      "outputs": [
        {
          "name": "stdout",
          "output_type": "stream",
          "text": [
            "Model: \"sequential_1\"\n",
            "_________________________________________________________________\n",
            " Layer (type)                Output Shape              Param #   \n",
            "=================================================================\n",
            " embedding_1 (Embedding)     (None, 25, 100)           1620500   \n",
            "                                                                 \n",
            " dropout_2 (Dropout)         (None, 25, 100)           0         \n",
            "                                                                 \n",
            " gru (GRU)                   (None, 140)               101640    \n",
            "                                                                 \n",
            " dropout_3 (Dropout)         (None, 140)               0         \n",
            "                                                                 \n",
            " Classification (Dense)      (None, 1)                 141       \n",
            "                                                                 \n",
            "=================================================================\n",
            "Total params: 1722281 (6.57 MB)\n",
            "Trainable params: 1722281 (6.57 MB)\n",
            "Non-trainable params: 0 (0.00 Byte)\n",
            "_________________________________________________________________\n",
            "<keras.src.callbacks.History object at 0x7a464f8d0a00>\n",
            "Training Accuracy: 0.99733204\n",
            "ok\n",
            "Testing Accuracy:  0.98836082\n"
          ]
        }
      ],
      "source": [
        "model1.summary()\n",
        "print(results1)\n",
        "loss, accuracy = model1.evaluate(X_train , y_train , verbose=False)\n",
        "#print(\"************************Results for class :\"+str(curr_class)+\"*********************\")\n",
        "print(\"Training Accuracy: {:.8f}\".format(accuracy))\n",
        "print(\"ok\")\n",
        "loss, accuracy = model1.evaluate(X_test, y_test, verbose=False)\n",
        "print(\"Testing Accuracy:  {:.8f}\".format(accuracy))"
      ]
    },
    {
      "cell_type": "code",
      "execution_count": null,
      "metadata": {
        "colab": {
          "base_uri": "https://localhost:8080/"
        },
        "id": "HbbIjuEAPrMX",
        "outputId": "e876e829-7966-4c98-bf3e-84753a28dfe8"
      },
      "outputs": [
        {
          "name": "stdout",
          "output_type": "stream",
          "text": [
            "129/129 [==============================] - 2s 13ms/step - loss: 0.0464 - accuracy: 0.9884\n",
            "0.04641902074217796 0.9883608222007751\n"
          ]
        }
      ],
      "source": [
        "# model.load_weights(filepath='SpamDetection.hdf')\n",
        "import numpy as np\n",
        "from tensorflow import keras\n",
        "X_test = np.array(X_test)\n",
        "y_test = np.array(y_test)\n",
        "eval_ = model1.evaluate(X_test, y_test)\n",
        "print(eval_[0], eval_[1]) # loss / accuracy"
      ]
    },
    {
      "cell_type": "markdown",
      "metadata": {
        "id": "ZgGyNceIPylB"
      },
      "source": [
        "Fonction pour préparer la matrice de confusion"
      ]
    },
    {
      "cell_type": "code",
      "execution_count": null,
      "metadata": {
        "id": "z4fFbPm-PsWc"
      },
      "outputs": [],
      "source": [
        "from sklearn.metrics import classification_report, confusion_matrix, accuracy_score\n",
        "\n",
        "def c_report(y_true, y_pred):\n",
        "   print(\"Classification Report\")\n",
        "   print(classification_report(y_true, y_pred))\n",
        "   acc_sc = accuracy_score(y_true, y_pred)\n",
        "   print(\"Accuracy : {:.7f}\"+ str(format(acc_sc)))\n",
        "   return acc_sc\n",
        "\n",
        "def plot_confusion_matrix(y_true, y_pred):\n",
        "   mtx = confusion_matrix(y_true, y_pred)\n",
        "   sns.heatmap(mtx, annot=True, fmt='d', linewidths=.5,\n",
        "               cmap=\"Blues\", cbar=False)\n",
        "   plt.ylabel('True label')\n",
        "   plt.xlabel('Predicted label')"
      ]
    },
    {
      "cell_type": "markdown",
      "metadata": {
        "id": "PCvVB-pxP86o"
      },
      "source": [
        "Evaluation proprement dite"
      ]
    },
    {
      "cell_type": "code",
      "execution_count": null,
      "metadata": {
        "colab": {
          "base_uri": "https://localhost:8080/"
        },
        "id": "L7UhJt1iP3fK",
        "outputId": "bf1b9413-f096-4758-8260-be2b79d34017"
      },
      "outputs": [
        {
          "name": "stdout",
          "output_type": "stream",
          "text": [
            "129/129 [==============================] - 2s 12ms/step\n"
          ]
        }
      ],
      "source": [
        "preds = (model1.predict(X_test) > 0.5).astype(\"int32\")"
      ]
    },
    {
      "cell_type": "markdown",
      "metadata": {
        "id": "Yh9VjBFaQHIV"
      },
      "source": [
        "calcul de précision, rappel, f mesure pour chaque classe"
      ]
    },
    {
      "cell_type": "code",
      "execution_count": null,
      "metadata": {
        "colab": {
          "base_uri": "https://localhost:8080/"
        },
        "id": "EeKFKn3pQB8F",
        "outputId": "6ed56583-fa92-4acd-9419-27e002545bb7"
      },
      "outputs": [
        {
          "name": "stdout",
          "output_type": "stream",
          "text": [
            "Classification Report\n",
            "              precision    recall  f1-score   support\n",
            "\n",
            "         0.0       1.00      0.99      0.99      3553\n",
            "         1.0       0.93      0.99      0.96       571\n",
            "\n",
            "    accuracy                           0.99      4124\n",
            "   macro avg       0.97      0.99      0.98      4124\n",
            "weighted avg       0.99      0.99      0.99      4124\n",
            "\n",
            "Accuracy : {:.7f}0.988360814742968\n"
          ]
        },
        {
          "data": {
            "text/plain": [
              "0.988360814742968"
            ]
          },
          "execution_count": 36,
          "metadata": {},
          "output_type": "execute_result"
        }
      ],
      "source": [
        "c_report(y_test, preds)"
      ]
    },
    {
      "cell_type": "markdown",
      "metadata": {
        "id": "tBpBd69lQUFH"
      },
      "source": [
        "Affichage de la matrice de confusion du modele"
      ]
    },
    {
      "cell_type": "code",
      "execution_count": null,
      "metadata": {
        "colab": {
          "base_uri": "https://localhost:8080/",
          "height": 504
        },
        "id": "ADZRczpGQPMQ",
        "outputId": "88c35b6c-2435-479b-a9c4-11f42fbd3511"
      },
      "outputs": [
        {
          "name": "stdout",
          "output_type": "stream",
          "text": [
            "Requirement already satisfied: langdetect in /usr/local/lib/python3.10/dist-packages (1.0.9)\n",
            "Requirement already satisfied: six in /usr/local/lib/python3.10/dist-packages (from langdetect) (1.16.0)\n"
          ]
        },
        {
          "data": {
            "image/png": "[encoded data removed]",
            "text/plain": [
              "<Figure size 640x480 with 1 Axes>"
            ]
          },
          "metadata": {},
          "output_type": "display_data"
        }
      ],
      "source": [
        "import pandas as pd # Pour l'analyse et le traitement des données\n",
        "import numpy as np # Pour le calcul numerique\n",
        "import matplotlib.pyplot as plt # Pour la visualisation\n",
        "import seaborn as sns # Pour la visualisation\n",
        "from sklearn.cluster import KMeans # Pour la création du model\n",
        "!pip install langdetect\n",
        "from langdetect import detect\n",
        "np.set_printoptions(precision=8)\n",
        "plot_confusion_matrix(y_test, preds)"
      ]
    },
    {
      "cell_type": "markdown",
      "metadata": {
        "id": "qkIxkI6JQa2l"
      },
      "source": [
        "Courbe des erreurs"
      ]
    },
    {
      "cell_type": "code",
      "execution_count": null,
      "metadata": {
        "id": "pqpFzs0OroHG"
      },
      "outputs": [],
      "source": [
        "plot_model(results1)"
      ]
    },
    {
      "cell_type": "markdown",
      "metadata": {
        "id": "iiAu-oDNRbb2"
      },
      "source": [
        "Entrainement du modele BiLSTM"
      ]
    },
    {
      "cell_type": "code",
      "execution_count": null,
      "metadata": {
        "colab": {
          "background_save": true,
          "base_uri": "https://localhost:8080/",
          "height": 1000
        },
        "id": "2hbWEA5dN9lQ",
        "outputId": "e74c2374-8ac1-4a3d-959f-460a52fa10ca"
      },
      "outputs": [
        {
          "name": "stdout",
          "output_type": "stream",
          "text": [
            "Model: \"sequential_2\"\n",
            "_________________________________________________________________\n",
            " Layer (type)                Output Shape              Param #   \n",
            "=================================================================\n",
            " embedding_2 (Embedding)     (None, 37, 100)           1620500   \n",
            "                                                                 \n",
            " dropout_4 (Dropout)         (None, 37, 100)           0         \n",
            "                                                                 \n",
            " bidirectional (Bidirection  (None, 280)               269920    \n",
            " al)                                                             \n",
            "                                                                 \n",
            " dropout_5 (Dropout)         (None, 280)               0         \n",
            "                                                                 \n",
            " Classification (Dense)      (None, 1)                 281       \n",
            "                                                                 \n",
            "=================================================================\n",
            "Total params: 1890701 (7.21 MB)\n",
            "Trainable params: 1890701 (7.21 MB)\n",
            "Non-trainable params: 0 (0.00 Byte)\n",
            "_________________________________________________________________\n",
            "Epoch 1/10\n",
            "660/660 [==============================] - 130s 186ms/step - loss: 0.1440 - accuracy: 0.9560 - val_loss: 0.1752 - val_accuracy: 0.8900\n",
            "Epoch 2/10\n",
            "660/660 [==============================] - 88s 133ms/step - loss: 0.0475 - accuracy: 0.9858 - val_loss: 0.0330 - val_accuracy: 0.9918\n",
            "Epoch 3/10\n",
            "660/660 [==============================] - 95s 144ms/step - loss: 0.0210 - accuracy: 0.9944 - val_loss: 0.0318 - val_accuracy: 0.9915\n",
            "Epoch 4/10\n",
            "660/660 [==============================] - 87s 131ms/step - loss: 0.0182 - accuracy: 0.9951 - val_loss: 0.0309 - val_accuracy: 0.9915\n",
            "Epoch 5/10\n",
            "660/660 [==============================] - 97s 148ms/step - loss: 0.0149 - accuracy: 0.9959 - val_loss: 0.0436 - val_accuracy: 0.9906\n",
            "Epoch 6/10\n",
            "660/660 [==============================] - 91s 137ms/step - loss: 0.0116 - accuracy: 0.9966 - val_loss: 0.0342 - val_accuracy: 0.9906\n",
            "Epoch 7/10\n",
            "660/660 [==============================] - 90s 137ms/step - loss: 0.0106 - accuracy: 0.9970 - val_loss: 0.0442 - val_accuracy: 0.9909\n",
            "Epoch 8/10\n",
            "660/660 [==============================] - 87s 131ms/step - loss: 0.0101 - accuracy: 0.9974 - val_loss: 0.0388 - val_accuracy: 0.9906\n",
            "Epoch 9/10\n",
            "660/660 [==============================] - 86s 131ms/step - loss: 0.0080 - accuracy: 0.9980 - val_loss: 0.0365 - val_accuracy: 0.9915\n",
            "Epoch 10/10\n",
            "660/660 [==============================] - 88s 134ms/step - loss: 0.0071 - accuracy: 0.9982 - val_loss: 0.0579 - val_accuracy: 0.9906\n",
            "129/129 [==============================] - 5s 37ms/step - loss: 0.0470 - accuracy: 0.9920\n",
            "0.04695490002632141 0.9919980764389038\n"
          ]
        },
        {
          "data": {
            "image/png": "[encoded data removed]",
            "text/plain": [
              "<Figure size 1200x500 with 2 Axes>"
            ]
          },
          "metadata": {},
          "output_type": "display_data"
        }
      ],
      "source": [
        "model2 = Sequential()\n",
        "model2.add(Embedding(input_dim=vocab_size, output_dim=embedding_size, input_length=max_len))\n",
        "model2.add(Dropout(0.8))\n",
        "model2.add(Bidirectional(LSTM(140, return_sequences=False)))\n",
        "model2.add(Dropout(0.8))\n",
        "model2.add(Dense(1, activation='sigmoid', name='Classification'))\n",
        "model2.summary()\n",
        "\n",
        "model2.compile(optimizer='adam', loss='binary_crossentropy', metrics=['accuracy'])\n",
        "\n",
        "results2 = model2.fit(X_train, y_train, epochs=n_epochs, batch_size=batch_size, validation_split=0.2)\n",
        "\n",
        "eval_ = model2.evaluate(X_test, y_test)\n",
        "print(eval_[0], eval_[1]) # loss / accuracy\n",
        "\n",
        "plot_model(results2)"
      ]
    },
    {
      "cell_type": "markdown",
      "metadata": {
        "id": "Me4wxa66Rggy"
      },
      "source": [
        "Résumer du modele"
      ]
    },
    {
      "cell_type": "code",
      "execution_count": null,
      "metadata": {
        "colab": {
          "background_save": true
        },
        "id": "DUh1G3IURf0t",
        "outputId": "ced6417a-7989-4742-88ae-23163fa124ce"
      },
      "outputs": [
        {
          "name": "stdout",
          "output_type": "stream",
          "text": [
            "Model: \"sequential_2\"\n",
            "_________________________________________________________________\n",
            " Layer (type)                Output Shape              Param #   \n",
            "=================================================================\n",
            " embedding_2 (Embedding)     (None, 37, 100)           1620500   \n",
            "                                                                 \n",
            " dropout_4 (Dropout)         (None, 37, 100)           0         \n",
            "                                                                 \n",
            " bidirectional (Bidirection  (None, 280)               269920    \n",
            " al)                                                             \n",
            "                                                                 \n",
            " dropout_5 (Dropout)         (None, 280)               0         \n",
            "                                                                 \n",
            " Classification (Dense)      (None, 1)                 281       \n",
            "                                                                 \n",
            "=================================================================\n",
            "Total params: 1890701 (7.21 MB)\n",
            "Trainable params: 1890701 (7.21 MB)\n",
            "Non-trainable params: 0 (0.00 Byte)\n",
            "_________________________________________________________________\n",
            "<keras.src.callbacks.History object at 0x7a50822bdfc0>\n",
            "Training Accuracy: 0.99702889\n",
            "ok\n",
            "Testing Accuracy:  0.99199808\n"
          ]
        }
      ],
      "source": [
        "model2.summary()\n",
        "print(results2)\n",
        "loss, accuracy = model2.evaluate(X_train , y_train , verbose=False)\n",
        "#print(\"************************Results for class :\"+str(curr_class)+\"*********************\")\n",
        "print(\"Training Accuracy: {:.8f}\".format(accuracy))\n",
        "print(\"ok\")\n",
        "loss, accuracy = model2.evaluate(X_test, y_test, verbose=False)\n",
        "print(\"Testing Accuracy:  {:.8f}\".format(accuracy))"
      ]
    },
    {
      "cell_type": "markdown",
      "metadata": {
        "id": "37uIsNZjR2Cu"
      },
      "source": [
        "Résultat du modele"
      ]
    },
    {
      "cell_type": "code",
      "execution_count": null,
      "metadata": {
        "colab": {
          "background_save": true
        },
        "id": "FK96zAUQRpxT",
        "outputId": "667e852f-f176-4f8a-c794-816fcccaf7ce"
      },
      "outputs": [
        {
          "name": "stdout",
          "output_type": "stream",
          "text": [
            "129/129 [==============================] - 6s 46ms/step - loss: 0.0470 - accuracy: 0.9920\n",
            "0.04695490002632141 0.9919980764389038\n"
          ]
        }
      ],
      "source": [
        "# model.load_weights(filepath='SpamDetection.hdf')\n",
        "import numpy as np\n",
        "from tensorflow import keras\n",
        "X_test = np.array(X_test)\n",
        "y_test = np.array(y_test)\n",
        "eval_ = model2.evaluate(X_test, y_test)\n",
        "print(eval_[0], eval_[1]) # loss / accuracy"
      ]
    },
    {
      "cell_type": "markdown",
      "metadata": {
        "id": "TS7T6G_OSDm6"
      },
      "source": [
        "Préparation de la matrice de confusion du modele"
      ]
    },
    {
      "cell_type": "code",
      "execution_count": null,
      "metadata": {
        "colab": {
          "background_save": true
        },
        "id": "f4UFrka9R4jH"
      },
      "outputs": [],
      "source": [
        "from sklearn.metrics import classification_report, confusion_matrix, accuracy_score\n",
        "\n",
        "def c_report(y_true, y_pred):\n",
        "   print(\"Classification Report\")\n",
        "   print(classification_report(y_true, y_pred))\n",
        "   acc_sc = accuracy_score(y_true, y_pred)\n",
        "   print(\"Accuracy : {:.7f}\"+ str(format(acc_sc)))\n",
        "   return acc_sc\n",
        "\n",
        "def plot_confusion_matrix(y_true, y_pred):\n",
        "   mtx = confusion_matrix(y_true, y_pred)\n",
        "   sns.heatmap(mtx, annot=True, fmt='d', linewidths=.5,\n",
        "               cmap=\"Blues\", cbar=False)\n",
        "   plt.ylabel('True label')\n",
        "   plt.xlabel('Predicted label')"
      ]
    },
    {
      "cell_type": "markdown",
      "metadata": {
        "id": "_SVFqPHuSUPj"
      },
      "source": [
        "Tester le modele ou encore évaluation du test"
      ]
    },
    {
      "cell_type": "code",
      "execution_count": null,
      "metadata": {
        "colab": {
          "background_save": true
        },
        "id": "V9_oCbpUSKJM",
        "outputId": "13a7e23d-4360-408b-a2bb-4e71c0466611"
      },
      "outputs": [
        {
          "name": "stdout",
          "output_type": "stream",
          "text": [
            "129/129 [==============================] - 6s 37ms/step\n"
          ]
        }
      ],
      "source": [
        "preds = (model2.predict(X_test) > 0.5).astype(\"int32\")"
      ]
    },
    {
      "cell_type": "code",
      "execution_count": null,
      "metadata": {
        "colab": {
          "background_save": true
        },
        "id": "_QqLT_xXSbxE",
        "outputId": "3cd0d3ee-ae81-471d-fc5e-4984a3347ae0"
      },
      "outputs": [
        {
          "name": "stdout",
          "output_type": "stream",
          "text": [
            "Classification Report\n",
            "              precision    recall  f1-score   support\n",
            "\n",
            "         0.0       1.00      1.00      1.00      3502\n",
            "         1.0       0.97      0.97      0.97       622\n",
            "\n",
            "    accuracy                           0.99      4124\n",
            "   macro avg       0.98      0.98      0.98      4124\n",
            "weighted avg       0.99      0.99      0.99      4124\n",
            "\n",
            "Accuracy : {:.7f}0.9919980601357905\n"
          ]
        },
        {
          "data": {
            "text/plain": [
              "0.9919980601357905"
            ]
          },
          "execution_count": 44,
          "metadata": {},
          "output_type": "execute_result"
        }
      ],
      "source": [
        "c_report(y_test, preds)"
      ]
    },
    {
      "cell_type": "markdown",
      "metadata": {
        "id": "DAJyf41RSz8e"
      },
      "source": [
        "Affichage de la matrice de confusion"
      ]
    },
    {
      "cell_type": "code",
      "execution_count": null,
      "metadata": {
        "colab": {
          "background_save": true
        },
        "id": "6cjSxV0QSmWB",
        "outputId": "88299b96-3456-41fc-a72c-262b1c4217e5"
      },
      "outputs": [
        {
          "name": "stdout",
          "output_type": "stream",
          "text": [
            "Requirement already satisfied: langdetect in /usr/local/lib/python3.10/dist-packages (1.0.9)\n",
            "Requirement already satisfied: six in /usr/local/lib/python3.10/dist-packages (from langdetect) (1.16.0)\n"
          ]
        },
        {
          "data": {
            "image/png": "[encoded data removed]",
            "text/plain": [
              "<Figure size 640x480 with 1 Axes>"
            ]
          },
          "metadata": {},
          "output_type": "display_data"
        }
      ],
      "source": [
        "import pandas as pd # Pour l'analyse et le traitement des données\n",
        "import numpy as np # Pour le calcul numerique\n",
        "import matplotlib.pyplot as plt # Pour la visualisation\n",
        "import seaborn as sns # Pour la visualisation\n",
        "from sklearn.cluster import KMeans # Pour la création du model\n",
        "!pip install langdetect\n",
        "from langdetect import detect\n",
        "np.set_printoptions(precision=8)\n",
        "plot_confusion_matrix(y_test, preds)"
      ]
    },
    {
      "cell_type": "markdown",
      "metadata": {
        "id": "oIH-a0k0S82X"
      },
      "source": [
        "Courbe des erreurs"
      ]
    },
    {
      "cell_type": "code",
      "execution_count": null,
      "metadata": {
        "colab": {
          "background_save": true,
          "base_uri": "https://localhost:8080/",
          "height": 391
        },
        "id": "Zjoxq5DGS3d9",
        "outputId": "4db0b218-3b06-4638-e853-ce8a8eaab758"
      },
      "outputs": [
        {
          "data": {
            "image/png": "[encoded data removed]",
            "text/plain": [
              "<Figure size 1200x500 with 2 Axes>"
            ]
          },
          "metadata": {},
          "output_type": "display_data"
        }
      ],
      "source": [
        "plot_model(results2)"
      ]
    },
    {
      "cell_type": "code",
      "execution_count": null,
      "metadata": {
        "colab": {
          "background_save": true
        },
        "id": "33r0o_BPOC1-",
        "outputId": "1965d442-cade-461e-b339-af6386ee3907"
      },
      "outputs": [
        {
          "name": "stdout",
          "output_type": "stream",
          "text": [
            "Model: \"sequential_3\"\n",
            "_________________________________________________________________\n",
            " Layer (type)                Output Shape              Param #   \n",
            "=================================================================\n",
            " embedding_3 (Embedding)     (None, 37, 100)           1620500   \n",
            "                                                                 \n",
            " conv1d (Conv1D)             (None, 35, 128)           38528     \n",
            "                                                                 \n",
            " max_pooling1d (MaxPooling1  (None, 11, 128)           0         \n",
            " D)                                                              \n",
            "                                                                 \n",
            " dropout_6 (Dropout)         (None, 11, 128)           0         \n",
            "                                                                 \n",
            " conv1d_1 (Conv1D)           (None, 9, 128)            49280     \n",
            "                                                                 \n",
            " global_max_pooling1d (Glob  (None, 128)               0         \n",
            " alMaxPooling1D)                                                 \n",
            "                                                                 \n",
            " dropout_7 (Dropout)         (None, 128)               0         \n",
            "                                                                 \n",
            " dense (Dense)               (None, 64)                8256      \n",
            "                                                                 \n",
            " dropout_8 (Dropout)         (None, 64)                0         \n",
            "                                                                 \n",
            " dense_1 (Dense)             (None, 32)                2080      \n",
            "                                                                 \n",
            " dropout_9 (Dropout)         (None, 32)                0         \n",
            "                                                                 \n",
            "=================================================================\n",
            "Total params: 1718644 (6.56 MB)\n",
            "Trainable params: 1718644 (6.56 MB)\n",
            "Non-trainable params: 0 (0.00 Byte)\n",
            "_________________________________________________________________\n",
            "Epoch 1/10\n",
            "660/660 [==============================] - 32s 46ms/step - loss: 0.0990 - accuracy: 0.9715 - val_loss: 0.0322 - val_accuracy: 0.9894\n",
            "Epoch 2/10\n",
            "660/660 [==============================] - 30s 45ms/step - loss: 0.0182 - accuracy: 0.9955 - val_loss: 0.0515 - val_accuracy: 0.9894\n",
            "Epoch 3/10\n",
            "660/660 [==============================] - 30s 45ms/step - loss: 0.0102 - accuracy: 0.9974 - val_loss: 0.0359 - val_accuracy: 0.9894\n",
            "Epoch 4/10\n",
            "660/660 [==============================] - 30s 45ms/step - loss: 0.0078 - accuracy: 0.9980 - val_loss: 0.0339 - val_accuracy: 0.9900\n",
            "Epoch 5/10\n",
            "660/660 [==============================] - 29s 44ms/step - loss: 0.0051 - accuracy: 0.9983 - val_loss: 0.0520 - val_accuracy: 0.9891\n",
            "Epoch 6/10\n",
            "660/660 [==============================] - 28s 42ms/step - loss: 0.0071 - accuracy: 0.9983 - val_loss: 0.0483 - val_accuracy: 0.9858\n",
            "Epoch 7/10\n",
            "660/660 [==============================] - 30s 45ms/step - loss: 0.0062 - accuracy: 0.9986 - val_loss: 0.0504 - val_accuracy: 0.9885\n",
            "Epoch 8/10\n",
            "660/660 [==============================] - 30s 45ms/step - loss: 0.0055 - accuracy: 0.9989 - val_loss: 0.0489 - val_accuracy: 0.9870\n",
            "Epoch 9/10\n",
            "660/660 [==============================] - 29s 44ms/step - loss: 0.0052 - accuracy: 0.9988 - val_loss: 0.0532 - val_accuracy: 0.9891\n",
            "Epoch 10/10\n",
            "660/660 [==============================] - 29s 44ms/step - loss: 0.0040 - accuracy: 0.9989 - val_loss: 0.0926 - val_accuracy: 0.9879\n",
            "129/129 [==============================] - 1s 10ms/step - loss: 0.1061 - accuracy: 0.9879\n",
            "0.10608808696269989 0.9878758192062378\n"
          ]
        },
        {
          "data": {
            "image/png": "[encoded data removed]",
            "text/plain": [
              "<Figure size 1200x500 with 2 Axes>"
            ]
          },
          "metadata": {},
          "output_type": "display_data"
        }
      ],
      "source": [
        "from keras.layers import Conv1D, MaxPool1D, GlobalMaxPooling1D, GlobalAveragePooling1D\n",
        "\n",
        "n_epochs = 10\n",
        "model3 = Sequential()\n",
        "model3.add(Embedding(input_dim=vocab_size, output_dim=embedding_size, input_length=max_len))\n",
        "model3.add(Conv1D(128, 3, activation='relu'))\n",
        "model3.add(MaxPool1D(3))\n",
        "model3.add(Dropout(0.2))\n",
        "model3.add(Conv1D(128, 3, activation='relu'))\n",
        "model3.add(GlobalMaxPooling1D())\n",
        "model3.add(Dropout(0.2))\n",
        "model3.add(Dense(64, activation='relu'))\n",
        "model3.add(Dropout(0.2))\n",
        "model3.add(Dense(32, activation='relu'))\n",
        "model3.add(Dropout(0.2))\n",
        "model3.summary()\n",
        "model3.add(Dense(1, activation='sigmoid'))\n",
        "\n",
        "\n",
        "model3.compile(loss='binary_crossentropy', optimizer=\"adam\", metrics=['accuracy'])\n",
        "result3 = model3.fit(X_train, y_train, batch_size = batch_size, epochs=n_epochs, validation_split=0.2, verbose=1)\n",
        "eval_ = model3.evaluate(X_test, y_test)\n",
        "print(eval_[0], eval_[1]) # loss / accuracy\n",
        "\n",
        "plot_model(result3)"
      ]
    },
    {
      "cell_type": "code",
      "execution_count": null,
      "metadata": {
        "colab": {
          "background_save": true
        },
        "id": "RPNVCnzQUOKj",
        "outputId": "db2c1b68-147e-4b46-a4bb-307c434a24f3"
      },
      "outputs": [
        {
          "name": "stdout",
          "output_type": "stream",
          "text": [
            "Model: \"sequential_3\"\n",
            "_________________________________________________________________\n",
            " Layer (type)                Output Shape              Param #   \n",
            "=================================================================\n",
            " embedding_3 (Embedding)     (None, 37, 100)           1620500   \n",
            "                                                                 \n",
            " conv1d (Conv1D)             (None, 35, 128)           38528     \n",
            "                                                                 \n",
            " max_pooling1d (MaxPooling1  (None, 11, 128)           0         \n",
            " D)                                                              \n",
            "                                                                 \n",
            " dropout_6 (Dropout)         (None, 11, 128)           0         \n",
            "                                                                 \n",
            " conv1d_1 (Conv1D)           (None, 9, 128)            49280     \n",
            "                                                                 \n",
            " global_max_pooling1d (Glob  (None, 128)               0         \n",
            " alMaxPooling1D)                                                 \n",
            "                                                                 \n",
            " dropout_7 (Dropout)         (None, 128)               0         \n",
            "                                                                 \n",
            " dense (Dense)               (None, 64)                8256      \n",
            "                                                                 \n",
            " dropout_8 (Dropout)         (None, 64)                0         \n",
            "                                                                 \n",
            " dense_1 (Dense)             (None, 32)                2080      \n",
            "                                                                 \n",
            " dropout_9 (Dropout)         (None, 32)                0         \n",
            "                                                                 \n",
            " dense_2 (Dense)             (None, 1)                 33        \n",
            "                                                                 \n",
            "=================================================================\n",
            "Total params: 1718677 (6.56 MB)\n",
            "Trainable params: 1718677 (6.56 MB)\n",
            "Non-trainable params: 0 (0.00 Byte)\n",
            "_________________________________________________________________\n",
            "Training Accuracy: 0.99702889\n",
            "ok\n",
            "Testing Accuracy:  0.98787582\n"
          ]
        }
      ],
      "source": [
        "model3.summary()\n",
        "loss, accuracy = model3.evaluate(X_train , y_train , verbose=False)\n",
        "#print(\"************************Results for class :\"+str(curr_class)+\"*********************\")\n",
        "print(\"Training Accuracy: {:.8f}\".format(accuracy))\n",
        "print(\"ok\")\n",
        "loss, accuracy = model3.evaluate(X_test, y_test, verbose=False)\n",
        "print(\"Testing Accuracy:  {:.8f}\".format(accuracy))"
      ]
    },
    {
      "cell_type": "code",
      "execution_count": null,
      "metadata": {
        "colab": {
          "background_save": true
        },
        "id": "KXFLnjw-UItr",
        "outputId": "eb71433a-06a4-4c46-80b0-17daadd1e5ff"
      },
      "outputs": [
        {
          "name": "stdout",
          "output_type": "stream",
          "text": [
            "129/129 [==============================] - 1s 9ms/step - loss: 0.1061 - accuracy: 0.9879\n",
            "0.10608808696269989 0.9878758192062378\n"
          ]
        }
      ],
      "source": [
        "# model.load_weights(filepath='SpamDetection.hdf')\n",
        "import numpy as np\n",
        "from tensorflow import keras\n",
        "X_test = np.array(X_test)\n",
        "y_test = np.array(y_test)\n",
        "eval_ = model3.evaluate(X_test, y_test)\n",
        "print(eval_[0], eval_[1]) # loss / accuracy"
      ]
    },
    {
      "cell_type": "code",
      "execution_count": null,
      "metadata": {
        "colab": {
          "background_save": true
        },
        "id": "ak3zpBKOUawS"
      },
      "outputs": [],
      "source": [
        "from sklearn.metrics import classification_report, confusion_matrix, accuracy_score\n",
        "\n",
        "def c_report(y_true, y_pred):\n",
        "   print(\"Classification Report\")\n",
        "   print(classification_report(y_true, y_pred))\n",
        "   acc_sc = accuracy_score(y_true, y_pred)\n",
        "   print(\"Accuracy : {:.7f}\"+ str(format(acc_sc)))\n",
        "   return acc_sc\n",
        "\n",
        "def plot_confusion_matrix(y_true, y_pred):\n",
        "   mtx = confusion_matrix(y_true, y_pred)\n",
        "   sns.heatmap(mtx, annot=True, fmt='d', linewidths=.5,\n",
        "               cmap=\"Blues\", cbar=False)\n",
        "   plt.ylabel('True label')\n",
        "   plt.xlabel('Predicted label')"
      ]
    },
    {
      "cell_type": "code",
      "execution_count": null,
      "metadata": {
        "colab": {
          "background_save": true
        },
        "id": "RNbN6lmxUen3",
        "outputId": "348057ab-f860-4861-a6ab-8bebd09ad88d"
      },
      "outputs": [
        {
          "name": "stdout",
          "output_type": "stream",
          "text": [
            "129/129 [==============================] - 1s 6ms/step\n"
          ]
        }
      ],
      "source": [
        "preds = (model3.predict(X_test) > 0.5).astype(\"int32\")"
      ]
    },
    {
      "cell_type": "code",
      "execution_count": null,
      "metadata": {
        "colab": {
          "background_save": true
        },
        "id": "6tNHpVdxUja6",
        "outputId": "62f8950e-ea0f-4c23-b6f7-f50eb3deff26"
      },
      "outputs": [
        {
          "name": "stdout",
          "output_type": "stream",
          "text": [
            "Classification Report\n",
            "              precision    recall  f1-score   support\n",
            "\n",
            "         0.0       0.99      0.99      0.99      3502\n",
            "         1.0       0.95      0.97      0.96       622\n",
            "\n",
            "    accuracy                           0.99      4124\n",
            "   macro avg       0.97      0.98      0.98      4124\n",
            "weighted avg       0.99      0.99      0.99      4124\n",
            "\n",
            "Accuracy : {:.7f}0.9878758486905916\n"
          ]
        },
        {
          "data": {
            "text/plain": [
              "0.9878758486905916"
            ]
          },
          "execution_count": 52,
          "metadata": {},
          "output_type": "execute_result"
        }
      ],
      "source": [
        "c_report(y_test, preds)"
      ]
    },
    {
      "cell_type": "code",
      "execution_count": null,
      "metadata": {
        "colab": {
          "background_save": true
        },
        "id": "V0bzte2TUniT",
        "outputId": "6a62163c-2965-4f7e-8f87-66997e249777"
      },
      "outputs": [
        {
          "name": "stdout",
          "output_type": "stream",
          "text": [
            "Requirement already satisfied: langdetect in /usr/local/lib/python3.10/dist-packages (1.0.9)\n",
            "Requirement already satisfied: six in /usr/local/lib/python3.10/dist-packages (from langdetect) (1.16.0)\n"
          ]
        },
        {
          "data": {
            "image/png": "[encoded data removed]",
            "text/plain": [
              "<Figure size 640x480 with 1 Axes>"
            ]
          },
          "metadata": {},
          "output_type": "display_data"
        }
      ],
      "source": [
        "import pandas as pd # Pour l'analyse et le traitement des données\n",
        "import numpy as np # Pour le calcul numerique\n",
        "import matplotlib.pyplot as plt # Pour la visualisation\n",
        "import seaborn as sns # Pour la visualisation\n",
        "from sklearn.cluster import KMeans # Pour la création du model\n",
        "!pip install langdetect\n",
        "from langdetect import detect\n",
        "np.set_printoptions(precision=8)\n",
        "plot_confusion_matrix(y_test, preds)"
      ]
    },
    {
      "cell_type": "markdown",
      "source": [
        "CNN-LSTM"
      ],
      "metadata": {
        "id": "LUk3glYq7jk1"
      }
    },
    {
      "cell_type": "code",
      "source": [
        "from tensorflow.keras.layers import LSTM\n",
        "import tensorflow as tf\n",
        "from tensorflow.keras.layers import MaxPool1D\n",
        "from keras.layers import Conv1D, MaxPool1D, GlobalMaxPooling1D, GlobalAveragePooling1D\n",
        "print(X_train.shape)\n",
        "n_epochs = 10\n",
        "model = Sequential()\n",
        "model.add(Dropout(0.25))\n",
        "model.add(Conv1D(30,\n",
        "                 5,\n",
        "                 padding='valid',\n",
        "                 activation='relu',\n",
        "                 strides=1))\n",
        "model.add(MaxPool1D(pool_size=4))\n",
        "model.add(LSTM(30))\n",
        "model.add(Dense(1))\n",
        "model.add(Activation('sigmoid'))\n",
        "model.compile(loss='binary_crossentropy',\n",
        "              optimizer='adam',\n",
        "              metrics=['accuracy'])\n",
        "\n",
        "\n",
        "\n",
        "X_train = tf.cast(X_train, tf.float32)\n",
        "model.compile(loss='binary_crossentropy', optimizer=\"adam\", metrics=['accuracy'])\n",
        "result3 = model.fit(X_train, y_train, batch_size = 2, epochs=2, validation_split=0.2, verbose=1)\n",
        "eval_ = model.evaluate(X_test, y_test)\n",
        "print(eval_[0], eval_[1]) # loss / accuracy\n",
        "\n",
        "plot_model(result3)"
      ],
      "metadata": {
        "colab": {
          "base_uri": "https://localhost:8080/",
          "height": 106
        },
        "id": "fqour6f67grI",
        "outputId": "15b08e08-e9de-4f03-b6b2-353bd17e7de9"
      },
      "execution_count": null,
      "outputs": [
        {
          "output_type": "error",
          "ename": "SyntaxError",
          "evalue": "invalid syntax (<ipython-input-43-60ca04392666>, line 13)",
          "traceback": [
            "\u001b[0;36m  File \u001b[0;32m\"<ipython-input-43-60ca04392666>\"\u001b[0;36m, line \u001b[0;32m13\u001b[0m\n\u001b[0;31m    strides=, input_shape=(X_train.shape[1], 1)))\u001b[0m\n\u001b[0m            ^\u001b[0m\n\u001b[0;31mSyntaxError\u001b[0m\u001b[0;31m:\u001b[0m invalid syntax\n"
          ]
        }
      ]
    },
    {
      "cell_type": "code",
      "source": [
        "model3.summary()\n",
        "loss, accuracy = model3.evaluate(X_train , y_train , verbose=False)\n",
        "#print(\"************************Results for class :\"+str(curr_class)+\"*********************\")\n",
        "print(\"Training Accuracy: {:.8f}\".format(accuracy))\n",
        "print(\"ok\")\n",
        "loss, accuracy = model3.evaluate(X_test, y_test, verbose=False)\n",
        "print(\"Testing Accuracy:  {:.8f}\".format(accuracy))"
      ],
      "metadata": {
        "id": "uzW_Vvol9I30"
      },
      "execution_count": null,
      "outputs": []
    },
    {
      "cell_type": "code",
      "source": [
        "# model.load_weights(filepath='SpamDetection.hdf')\n",
        "import numpy as np\n",
        "from tensorflow import keras\n",
        "X_test = np.array(X_test)\n",
        "y_test = np.array(y_test)\n",
        "eval_ = model3.evaluate(X_test, y_test)\n",
        "print(eval_[0], eval_[1]) # loss / accuracy"
      ],
      "metadata": {
        "id": "XPxlHH3K9TrR"
      },
      "execution_count": null,
      "outputs": []
    },
    {
      "cell_type": "code",
      "source": [
        "from sklearn.metrics import classification_report, confusion_matrix, accuracy_score\n",
        "\n",
        "def c_report(y_true, y_pred):\n",
        "   print(\"Classification Report\")\n",
        "   print(classification_report(y_true, y_pred))\n",
        "   acc_sc = accuracy_score(y_true, y_pred)\n",
        "   print(\"Accuracy : {:.7f}\"+ str(format(acc_sc)))\n",
        "   return acc_sc\n",
        "\n",
        "def plot_confusion_matrix(y_true, y_pred):\n",
        "   mtx = confusion_matrix(y_true, y_pred)\n",
        "   sns.heatmap(mtx, annot=True, fmt='d', linewidths=.5,\n",
        "               cmap=\"Blues\", cbar=False)\n",
        "   plt.ylabel('True label')\n",
        "   plt.xlabel('Predicted label')"
      ],
      "metadata": {
        "id": "LT-lGeAj9U1w"
      },
      "execution_count": null,
      "outputs": []
    },
    {
      "cell_type": "code",
      "source": [
        "preds = (model3.predict(X_test) > 0.5).astype(\"int32\")"
      ],
      "metadata": {
        "id": "o5qRx8Y_9Y_v"
      },
      "execution_count": null,
      "outputs": []
    },
    {
      "cell_type": "code",
      "source": [
        "c_report(y_test, preds)"
      ],
      "metadata": {
        "id": "WZxnXRmO9c2Z"
      },
      "execution_count": null,
      "outputs": []
    },
    {
      "cell_type": "code",
      "source": [
        "import pandas as pd # Pour l'analyse et le traitement des données\n",
        "import numpy as np # Pour le calcul numerique\n",
        "import matplotlib.pyplot as plt # Pour la visualisation\n",
        "import seaborn as sns # Pour la visualisation\n",
        "from sklearn.cluster import KMeans # Pour la création du model\n",
        "!pip install langdetect\n",
        "from langdetect import detect\n",
        "np.set_printoptions(precision=8)\n",
        "plot_confusion_matrix(y_test, preds)"
      ],
      "metadata": {
        "id": "ttkFSxth9gjG"
      },
      "execution_count": null,
      "outputs": []
    }
  ],
  "metadata": {
    "colab": {
      "provenance": []
    },
    "kernelspec": {
      "display_name": "Python 3",
      "name": "python3"
    },
    "language_info": {
      "name": "python"
    }
  },
  "nbformat": 4,
  "nbformat_minor": 0
}